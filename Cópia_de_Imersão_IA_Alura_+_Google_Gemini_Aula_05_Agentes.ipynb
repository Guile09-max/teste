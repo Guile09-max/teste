{
  "nbformat": 4,
  "nbformat_minor": 0,
  "metadata": {
    "colab": {
      "provenance": [],
      "include_colab_link": true
    },
    "kernelspec": {
      "name": "python3",
      "display_name": "Python 3"
    },
    "language_info": {
      "name": "python"
    }
  },
  "cells": [
    {
      "cell_type": "markdown",
      "metadata": {
        "id": "view-in-github",
        "colab_type": "text"
      },
      "source": [
        "<a href=\"https://colab.research.google.com/github/Guile09-max/teste/blob/main/C%C3%B3pia_de_Imers%C3%A3o_IA_Alura_%2B_Google_Gemini_Aula_05_Agentes.ipynb\" target=\"_parent\"><img src=\"https://colab.research.google.com/assets/colab-badge.svg\" alt=\"Open In Colab\"/></a>"
      ]
    },
    {
      "cell_type": "code",
      "source": [
        "%pip -q install google-genai"
      ],
      "metadata": {
        "id": "UCCbECexLk_h"
      },
      "execution_count": 2,
      "outputs": []
    },
    {
      "cell_type": "code",
      "source": [
        "# Configura a API Key do Google Gemini\n",
        "\n",
        "import os\n",
        "from google.colab import userdata\n",
        "\n",
        "os.environ[\"GOOGLE_API_KEY\"] = userdata.get('GOOGLE_API_KEY')"
      ],
      "metadata": {
        "id": "NfCqHo1tLk8P"
      },
      "execution_count": 3,
      "outputs": []
    },
    {
      "cell_type": "code",
      "source": [
        "# Configura o cliente da SDK do Gemini\n",
        "\n",
        "from google import genai\n",
        "\n",
        "client = genai.Client()\n",
        "\n",
        "MODEL_ID = \"gemini-2.0-flash\""
      ],
      "metadata": {
        "id": "bV4w0H5TLk5g"
      },
      "execution_count": 4,
      "outputs": []
    },
    {
      "cell_type": "code",
      "source": [
        "# Pergunta ao Gemini uma informação mais recente que seu conhecimento\n",
        "\n",
        "from IPython.display import HTML, Markdown\n",
        "\n",
        "# Perguntar pro modelo quando é a próxima imersão de IA ###############################################\n",
        "resposta = client.models.generate_content(\n",
        "    model=MODEL_ID,\n",
        "    contents='Quando é a próxima Imersão IA com Google Gemini da Alura?',\n",
        ")\n",
        "\n",
        "\n",
        "# Exibe a resposta na tela\n",
        "display(Markdown(f\"Resposta:\\n {resposta.text}\"))"
      ],
      "metadata": {
        "id": "HwVP7Xi34Zuw",
        "colab": {
          "base_uri": "https://localhost:8080/",
          "height": 122
        },
        "outputId": "bc4b0f1d-1aa9-4841-d79b-45fdaa88cc46"
      },
      "execution_count": 5,
      "outputs": [
        {
          "output_type": "display_data",
          "data": {
            "text/plain": [
              "<IPython.core.display.Markdown object>"
            ],
            "text/markdown": "Resposta:\n A Alura não tem uma data fixa para a Imersão IA com Google Gemini. A melhor forma de saber quando será a próxima edição é:\n\n*   **Acompanhar a página da Alura:** Fique de olho na página principal da Alura (alura.com.br) e nas redes sociais deles (YouTube, Instagram, LinkedIn) para anúncios de novas edições.\n*   **Assinar a newsletter da Alura:** Assim, você receberá informações sobre os novos cursos e imersões diretamente no seu e-mail.\n*   **Entrar no Discord da Alura:** A comunidade no Discord é um ótimo lugar para ficar por dentro das novidades e conversar com outros alunos."
          },
          "metadata": {}
        }
      ]
    },
    {
      "cell_type": "code",
      "source": [
        "# Pergunta ao Gemini uma informação utilizando a busca do Google como contexto\n",
        "\n",
        "response = client.models.generate_content(\n",
        "    model=MODEL_ID,\n",
        "    contents='Quando é a próxima Imersão IA com Google Gemini da Alura?',\n",
        "    config={\"tools\": [{\"google_search\": {}}]}\n",
        ")\n",
        "\n",
        "# Exibe a resposta na tela\n",
        "display(Markdown(f\"Resposta:\\n {response.text}\"))"
      ],
      "metadata": {
        "id": "yXaZd7iZ4ftw",
        "colab": {
          "base_uri": "https://localhost:8080/",
          "height": 64
        },
        "outputId": "51b92c65-00cc-4c22-c31d-3cd7b2e5b19a"
      },
      "execution_count": 6,
      "outputs": [
        {
          "output_type": "display_data",
          "data": {
            "text/plain": [
              "<IPython.core.display.Markdown object>"
            ],
            "text/markdown": "Resposta:\n A próxima Imersão IA com Google Gemini da Alura acontecerá entre os dias 12 e 16 de maio de 2025. As inscrições estão abertas até o dia 11 de maio e são totalmente gratuitas. Você pode se inscrever através do site oficial da Alura.\n"
          },
          "metadata": {}
        }
      ]
    },
    {
      "cell_type": "code",
      "source": [
        "# Exibe a busca\n",
        "print(f\"Busca realizada: {response.candidates[0].grounding_metadata.web_search_queries}\")\n",
        "# Exibe as URLs nas quais ele se baseou\n",
        "print(f\"Páginas utilizadas na resposta: {', '.join([site.web.title for site in response.candidates[0].grounding_metadata.grounding_chunks])}\")\n",
        "print()\n",
        "display(HTML(response.candidates[0].grounding_metadata.search_entry_point.rendered_content))"
      ],
      "metadata": {
        "id": "xHSNlTd84heJ",
        "colab": {
          "base_uri": "https://localhost:8080/",
          "height": 119
        },
        "outputId": "19d46d68-dc88-421b-b499-0d8ac10450ca"
      },
      "execution_count": 7,
      "outputs": [
        {
          "output_type": "stream",
          "name": "stdout",
          "text": [
            "Busca realizada: ['Alura imersão IA com Google Gemini']\n",
            "Páginas utilizadas na resposta: alura.com.br, tecmundo.com.br\n",
            "\n"
          ]
        },
        {
          "output_type": "display_data",
          "data": {
            "text/plain": [
              "<IPython.core.display.HTML object>"
            ],
            "text/html": [
              "<style>\n",
              ".container {\n",
              "  align-items: center;\n",
              "  border-radius: 8px;\n",
              "  display: flex;\n",
              "  font-family: Google Sans, Roboto, sans-serif;\n",
              "  font-size: 14px;\n",
              "  line-height: 20px;\n",
              "  padding: 8px 12px;\n",
              "}\n",
              ".chip {\n",
              "  display: inline-block;\n",
              "  border: solid 1px;\n",
              "  border-radius: 16px;\n",
              "  min-width: 14px;\n",
              "  padding: 5px 16px;\n",
              "  text-align: center;\n",
              "  user-select: none;\n",
              "  margin: 0 8px;\n",
              "  -webkit-tap-highlight-color: transparent;\n",
              "}\n",
              ".carousel {\n",
              "  overflow: auto;\n",
              "  scrollbar-width: none;\n",
              "  white-space: nowrap;\n",
              "  margin-right: -12px;\n",
              "}\n",
              ".headline {\n",
              "  display: flex;\n",
              "  margin-right: 4px;\n",
              "}\n",
              ".gradient-container {\n",
              "  position: relative;\n",
              "}\n",
              ".gradient {\n",
              "  position: absolute;\n",
              "  transform: translate(3px, -9px);\n",
              "  height: 36px;\n",
              "  width: 9px;\n",
              "}\n",
              "@media (prefers-color-scheme: light) {\n",
              "  .container {\n",
              "    background-color: #fafafa;\n",
              "    box-shadow: 0 0 0 1px #0000000f;\n",
              "  }\n",
              "  .headline-label {\n",
              "    color: #1f1f1f;\n",
              "  }\n",
              "  .chip {\n",
              "    background-color: #ffffff;\n",
              "    border-color: #d2d2d2;\n",
              "    color: #5e5e5e;\n",
              "    text-decoration: none;\n",
              "  }\n",
              "  .chip:hover {\n",
              "    background-color: #f2f2f2;\n",
              "  }\n",
              "  .chip:focus {\n",
              "    background-color: #f2f2f2;\n",
              "  }\n",
              "  .chip:active {\n",
              "    background-color: #d8d8d8;\n",
              "    border-color: #b6b6b6;\n",
              "  }\n",
              "  .logo-dark {\n",
              "    display: none;\n",
              "  }\n",
              "  .gradient {\n",
              "    background: linear-gradient(90deg, #fafafa 15%, #fafafa00 100%);\n",
              "  }\n",
              "}\n",
              "@media (prefers-color-scheme: dark) {\n",
              "  .container {\n",
              "    background-color: #1f1f1f;\n",
              "    box-shadow: 0 0 0 1px #ffffff26;\n",
              "  }\n",
              "  .headline-label {\n",
              "    color: #fff;\n",
              "  }\n",
              "  .chip {\n",
              "    background-color: #2c2c2c;\n",
              "    border-color: #3c4043;\n",
              "    color: #fff;\n",
              "    text-decoration: none;\n",
              "  }\n",
              "  .chip:hover {\n",
              "    background-color: #353536;\n",
              "  }\n",
              "  .chip:focus {\n",
              "    background-color: #353536;\n",
              "  }\n",
              "  .chip:active {\n",
              "    background-color: #464849;\n",
              "    border-color: #53575b;\n",
              "  }\n",
              "  .logo-light {\n",
              "    display: none;\n",
              "  }\n",
              "  .gradient {\n",
              "    background: linear-gradient(90deg, #1f1f1f 15%, #1f1f1f00 100%);\n",
              "  }\n",
              "}\n",
              "</style>\n",
              "<div class=\"container\">\n",
              "  <div class=\"headline\">\n",
              "    <svg class=\"logo-light\" width=\"18\" height=\"18\" viewBox=\"9 9 35 35\" fill=\"none\" xmlns=\"http://www.w3.org/2000/svg\">\n",
              "      <path fill-rule=\"evenodd\" clip-rule=\"evenodd\" d=\"M42.8622 27.0064C42.8622 25.7839 42.7525 24.6084 42.5487 23.4799H26.3109V30.1568H35.5897C35.1821 32.3041 33.9596 34.1222 32.1258 35.3448V39.6864H37.7213C40.9814 36.677 42.8622 32.2571 42.8622 27.0064V27.0064Z\" fill=\"#4285F4\"/>\n",
              "      <path fill-rule=\"evenodd\" clip-rule=\"evenodd\" d=\"M26.3109 43.8555C30.9659 43.8555 34.8687 42.3195 37.7213 39.6863L32.1258 35.3447C30.5898 36.3792 28.6306 37.0061 26.3109 37.0061C21.8282 37.0061 18.0195 33.9811 16.6559 29.906H10.9194V34.3573C13.7563 39.9841 19.5712 43.8555 26.3109 43.8555V43.8555Z\" fill=\"#34A853\"/>\n",
              "      <path fill-rule=\"evenodd\" clip-rule=\"evenodd\" d=\"M16.6559 29.8904C16.3111 28.8559 16.1074 27.7588 16.1074 26.6146C16.1074 25.4704 16.3111 24.3733 16.6559 23.3388V18.8875H10.9194C9.74388 21.2072 9.06992 23.8247 9.06992 26.6146C9.06992 29.4045 9.74388 32.022 10.9194 34.3417L15.3864 30.8621L16.6559 29.8904V29.8904Z\" fill=\"#FBBC05\"/>\n",
              "      <path fill-rule=\"evenodd\" clip-rule=\"evenodd\" d=\"M26.3109 16.2386C28.85 16.2386 31.107 17.1164 32.9095 18.8091L37.8466 13.8719C34.853 11.082 30.9659 9.3736 26.3109 9.3736C19.5712 9.3736 13.7563 13.245 10.9194 18.8875L16.6559 23.3388C18.0195 19.2636 21.8282 16.2386 26.3109 16.2386V16.2386Z\" fill=\"#EA4335\"/>\n",
              "    </svg>\n",
              "    <svg class=\"logo-dark\" width=\"18\" height=\"18\" viewBox=\"0 0 48 48\" xmlns=\"http://www.w3.org/2000/svg\">\n",
              "      <circle cx=\"24\" cy=\"23\" fill=\"#FFF\" r=\"22\"/>\n",
              "      <path d=\"M33.76 34.26c2.75-2.56 4.49-6.37 4.49-11.26 0-.89-.08-1.84-.29-3H24.01v5.99h8.03c-.4 2.02-1.5 3.56-3.07 4.56v.75l3.91 2.97h.88z\" fill=\"#4285F4\"/>\n",
              "      <path d=\"M15.58 25.77A8.845 8.845 0 0 0 24 31.86c1.92 0 3.62-.46 4.97-1.31l4.79 3.71C31.14 36.7 27.65 38 24 38c-5.93 0-11.01-3.4-13.45-8.36l.17-1.01 4.06-2.85h.8z\" fill=\"#34A853\"/>\n",
              "      <path d=\"M15.59 20.21a8.864 8.864 0 0 0 0 5.58l-5.03 3.86c-.98-2-1.53-4.25-1.53-6.64 0-2.39.55-4.64 1.53-6.64l1-.22 3.81 2.98.22 1.08z\" fill=\"#FBBC05\"/>\n",
              "      <path d=\"M24 14.14c2.11 0 4.02.75 5.52 1.98l4.36-4.36C31.22 9.43 27.81 8 24 8c-5.93 0-11.01 3.4-13.45 8.36l5.03 3.85A8.86 8.86 0 0 1 24 14.14z\" fill=\"#EA4335\"/>\n",
              "    </svg>\n",
              "    <div class=\"gradient-container\"><div class=\"gradient\"></div></div>\n",
              "  </div>\n",
              "  <div class=\"carousel\">\n",
              "    <a class=\"chip\" href=\"https://vertexaisearch.cloud.google.com/grounding-api-redirect/AbF9wXFM3FdfvyRDSEVmdO3zk2Xs9iUoBLa7IakCZU4udAZ9Ey72rQLs54mXvW2-9l_4FdzYzPg7bqik_6vj1mUFIITmh95CcykZ99RWlpALtBU4_BlTR4w0kUnhTkLuJrBq2AMmyzT-oQK-5fu4iq1rIjmp0msOgUA5pzU8YmuILrPIwQddCBtv7fZKIDch3Gpg7wxePC6N48FdN8Ca_ddwnEX2TK4F4MpJcCpE\">Alura imersão IA com Google Gemini</a>\n",
              "  </div>\n",
              "</div>\n"
            ]
          },
          "metadata": {}
        }
      ]
    },
    {
      "cell_type": "code",
      "source": [
        "# Instalar Framework ADK de agentes do Google ################################################\n",
        "\n",
        "%pip install -q google-adk"
      ],
      "metadata": {
        "id": "hvZ3UnPI4jhJ",
        "colab": {
          "base_uri": "https://localhost:8080/"
        },
        "outputId": "8738a8da-3576-4980-f5f9-03932141af0f"
      },
      "execution_count": 8,
      "outputs": [
        {
          "output_type": "stream",
          "name": "stdout",
          "text": [
            "\u001b[?25l   \u001b[90m━━━━━━━━━━━━━━━━━━━━━━━━━━━━━━━━━━━━━━━━\u001b[0m \u001b[32m0.0/1.2 MB\u001b[0m \u001b[31m?\u001b[0m eta \u001b[36m-:--:--\u001b[0m\r\u001b[2K   \u001b[91m━━━━━━━━━━━━━━━━━━━━━━━━━━━━━━━━━━━━━━━\u001b[0m\u001b[91m╸\u001b[0m \u001b[32m1.2/1.2 MB\u001b[0m \u001b[31m42.7 MB/s\u001b[0m eta \u001b[36m0:00:01\u001b[0m\r\u001b[2K   \u001b[90m━━━━━━━━━━━━━━━━━━━━━━━━━━━━━━━━━━━━━━━━\u001b[0m \u001b[32m1.2/1.2 MB\u001b[0m \u001b[31m28.4 MB/s\u001b[0m eta \u001b[36m0:00:00\u001b[0m\n",
            "\u001b[?25h\u001b[?25l   \u001b[90m━━━━━━━━━━━━━━━━━━━━━━━━━━━━━━━━━━━━━━━━\u001b[0m \u001b[32m0.0/232.1 kB\u001b[0m \u001b[31m?\u001b[0m eta \u001b[36m-:--:--\u001b[0m\r\u001b[2K   \u001b[90m━━━━━━━━━━━━━━━━━━━━━━━━━━━━━━━━━━━━━━━━\u001b[0m \u001b[32m232.1/232.1 kB\u001b[0m \u001b[31m21.1 MB/s\u001b[0m eta \u001b[36m0:00:00\u001b[0m\n",
            "\u001b[?25h\u001b[?25l   \u001b[90m━━━━━━━━━━━━━━━━━━━━━━━━━━━━━━━━━━━━━━━━\u001b[0m \u001b[32m0.0/95.2 kB\u001b[0m \u001b[31m?\u001b[0m eta \u001b[36m-:--:--\u001b[0m\r\u001b[2K   \u001b[90m━━━━━━━━━━━━━━━━━━━━━━━━━━━━━━━━━━━━━━━━\u001b[0m \u001b[32m95.2/95.2 kB\u001b[0m \u001b[31m9.3 MB/s\u001b[0m eta \u001b[36m0:00:00\u001b[0m\n",
            "\u001b[?25h\u001b[?25l   \u001b[90m━━━━━━━━━━━━━━━━━━━━━━━━━━━━━━━━━━━━━━━━\u001b[0m \u001b[32m0.0/217.1 kB\u001b[0m \u001b[31m?\u001b[0m eta \u001b[36m-:--:--\u001b[0m\r\u001b[2K   \u001b[90m━━━━━━━━━━━━━━━━━━━━━━━━━━━━━━━━━━━━━━━━\u001b[0m \u001b[32m217.1/217.1 kB\u001b[0m \u001b[31m17.3 MB/s\u001b[0m eta \u001b[36m0:00:00\u001b[0m\n",
            "\u001b[?25h\u001b[?25l   \u001b[90m━━━━━━━━━━━━━━━━━━━━━━━━━━━━━━━━━━━━━━━━\u001b[0m \u001b[32m0.0/334.1 kB\u001b[0m \u001b[31m?\u001b[0m eta \u001b[36m-:--:--\u001b[0m\r\u001b[2K   \u001b[90m━━━━━━━━━━━━━━━━━━━━━━━━━━━━━━━━━━━━━━━━\u001b[0m \u001b[32m334.1/334.1 kB\u001b[0m \u001b[31m29.0 MB/s\u001b[0m eta \u001b[36m0:00:00\u001b[0m\n",
            "\u001b[?25h\u001b[?25l   \u001b[90m━━━━━━━━━━━━━━━━━━━━━━━━━━━━━━━━━━━━━━━━\u001b[0m \u001b[32m0.0/125.1 kB\u001b[0m \u001b[31m?\u001b[0m eta \u001b[36m-:--:--\u001b[0m\r\u001b[2K   \u001b[90m━━━━━━━━━━━━━━━━━━━━━━━━━━━━━━━━━━━━━━━━\u001b[0m \u001b[32m125.1/125.1 kB\u001b[0m \u001b[31m12.4 MB/s\u001b[0m eta \u001b[36m0:00:00\u001b[0m\n",
            "\u001b[?25h\u001b[?25l   \u001b[90m━━━━━━━━━━━━━━━━━━━━━━━━━━━━━━━━━━━━━━━━\u001b[0m \u001b[32m0.0/65.8 kB\u001b[0m \u001b[31m?\u001b[0m eta \u001b[36m-:--:--\u001b[0m\r\u001b[2K   \u001b[90m━━━━━━━━━━━━━━━━━━━━━━━━━━━━━━━━━━━━━━━━\u001b[0m \u001b[32m65.8/65.8 kB\u001b[0m \u001b[31m5.3 MB/s\u001b[0m eta \u001b[36m0:00:00\u001b[0m\n",
            "\u001b[2K   \u001b[90m━━━━━━━━━━━━━━━━━━━━━━━━━━━━━━━━━━━━━━━━\u001b[0m \u001b[32m119.0/119.0 kB\u001b[0m \u001b[31m11.9 MB/s\u001b[0m eta \u001b[36m0:00:00\u001b[0m\n",
            "\u001b[2K   \u001b[90m━━━━━━━━━━━━━━━━━━━━━━━━━━━━━━━━━━━━━━━━\u001b[0m \u001b[32m194.9/194.9 kB\u001b[0m \u001b[31m17.3 MB/s\u001b[0m eta \u001b[36m0:00:00\u001b[0m\n",
            "\u001b[2K   \u001b[90m━━━━━━━━━━━━━━━━━━━━━━━━━━━━━━━━━━━━━━━━\u001b[0m \u001b[32m62.5/62.5 kB\u001b[0m \u001b[31m5.9 MB/s\u001b[0m eta \u001b[36m0:00:00\u001b[0m\n",
            "\u001b[2K   \u001b[90m━━━━━━━━━━━━━━━━━━━━━━━━━━━━━━━━━━━━━━━━\u001b[0m \u001b[32m103.3/103.3 kB\u001b[0m \u001b[31m10.0 MB/s\u001b[0m eta \u001b[36m0:00:00\u001b[0m\n",
            "\u001b[2K   \u001b[90m━━━━━━━━━━━━━━━━━━━━━━━━━━━━━━━━━━━━━━━━\u001b[0m \u001b[32m44.4/44.4 kB\u001b[0m \u001b[31m4.2 MB/s\u001b[0m eta \u001b[36m0:00:00\u001b[0m\n",
            "\u001b[2K   \u001b[90m━━━━━━━━━━━━━━━━━━━━━━━━━━━━━━━━━━━━━━━━\u001b[0m \u001b[32m72.0/72.0 kB\u001b[0m \u001b[31m7.1 MB/s\u001b[0m eta \u001b[36m0:00:00\u001b[0m\n",
            "\u001b[?25h"
          ]
        }
      ]
    },
    {
      "cell_type": "code",
      "execution_count": 9,
      "metadata": {
        "id": "aePV2bdfDeoW"
      },
      "outputs": [],
      "source": [
        "from google.adk.agents import Agent\n",
        "from google.adk.runners import Runner\n",
        "from google.adk.sessions import InMemorySessionService\n",
        "from google.adk.tools import google_search\n",
        "from google.genai import types  # Para criar conteúdos (Content e Part)\n",
        "from datetime import date\n",
        "import textwrap # Para formatar melhor a saída de texto\n",
        "from IPython.display import display, Markdown # Para exibir texto formatado no Colab\n",
        "import requests # Para fazer requisições HTTP\n",
        "import warnings\n",
        "\n",
        "warnings.filterwarnings(\"ignore\")"
      ]
    },
    {
      "cell_type": "code",
      "source": [
        "# Função auxiliar que envia uma mensagem para um agente via Runner e retorna a resposta final\n",
        "def call_agent(agent: Agent, message_text: str) -> str:\n",
        "    # Cria um serviço de sessão em memória\n",
        "    session_service = InMemorySessionService()\n",
        "    # Cria uma nova sessão (você pode personalizar os IDs conforme necessário)\n",
        "    session = session_service.create_session(app_name=agent.name, user_id=\"user1\", session_id=\"session1\")\n",
        "    # Cria um Runner para o agente\n",
        "    runner = Runner(agent=agent, app_name=agent.name, session_service=session_service)\n",
        "    # Cria o conteúdo da mensagem de entrada\n",
        "    content = types.Content(role=\"user\", parts=[types.Part(text=message_text)])\n",
        "\n",
        "    final_response = \"\"\n",
        "    # Itera assincronamente pelos eventos retornados durante a execução do agente\n",
        "    for event in runner.run(user_id=\"user1\", session_id=\"session1\", new_message=content):\n",
        "        if event.is_final_response():\n",
        "          for part in event.content.parts:\n",
        "            if part.text is not None:\n",
        "              final_response += part.text\n",
        "              final_response += \"\\n\"\n",
        "    return final_response"
      ],
      "metadata": {
        "id": "_xP4lWhsS5ko"
      },
      "execution_count": 10,
      "outputs": []
    },
    {
      "cell_type": "code",
      "source": [
        "# Função auxiliar para exibir texto formatado em Markdown no Colab\n",
        "def to_markdown(text):\n",
        "  text = text.replace('•', '  *')\n",
        "  return Markdown(textwrap.indent(text, '> ', predicate=lambda _: True))"
      ],
      "metadata": {
        "id": "8dosiodaxfFR"
      },
      "execution_count": 11,
      "outputs": []
    },
    {
      "cell_type": "code",
      "source": [
        "##########################################\n",
        "# --- Agente 1: Buscador de Notícias --- #\n",
        "##########################################\n",
        "def agente_buscador(topico, data_de_hoje_):\n",
        "  buscador = Agent(\n",
        "      name=\"agente_buscador\",\n",
        "      model=\"gemini-2.0-flash\",\n",
        "      description=\"Agente que busca notícias informações no Google\",\n",
        "      tools=[google_search],\n",
        "      instruction=\"\"\"\n",
        "      você é um assistente de pesquisa e a sua tarefa é usar a ferramenta de pesquisa do Google (google_search)\n",
        "      para recuperar notícias de lançamentos nuito relevantes sobre o tópico abaixo.\n",
        "      Foque em no máximo 5 lançamentos relevantes, com base na quantidade e entusiasmo das notícias  sobre ele\n",
        "      Se o tema tema tiver poucas notícias ou reações entusiamadas, pode ser que ele não seja tão relecante e pode ser substituído\n",
        "      por outro mais relevante. Os lançamentos devem ser atuais, de no máximo um mês antes da data de hoje\n",
        "\n",
        "      \"\"\"\n",
        "  )\n",
        "  entrada_do_agente_buscador = f\"Tópico: {topico}\\nData de hoje: {data_de_hoje_}\"\n",
        "  lancamentos = call_agent(buscador, entrada_do_agente_buscador)\n",
        "  return lancamentos\n"
      ],
      "metadata": {
        "id": "o8bqIfi_DyH8"
      },
      "execution_count": 12,
      "outputs": []
    },
    {
      "cell_type": "code",
      "source": [
        "################################################\n",
        "# --- Agente 2: Planejador de posts --- #\n",
        "################################################\n",
        "def agente_planejador(topico, lancamentos_buscados):\n",
        "    planejador = Agent(\n",
        "        name=\"agente_planejador\",\n",
        "        model=\"gemini-2.0-flash\",\n",
        "        # Inserir as instruções do Agente Planejador #################################################\n",
        "        instruction=\"\"\"\n",
        "        Você é um planejador de conteúdo especialista em redes sociais. Com base  na lista\n",
        "        de lançamentos mais recentes e relevantes do buscador, você deve:\n",
        "        usar a ferramenta de busca do Google (google_search) para criar um plano sobre\n",
        "        quais são os pontos mais relevantes que poderíamos abordar em um post sobre\n",
        "        cada um deles. Você também pode usar o (google search) para encontrar mais informações sobre os temas e aprofundar.\n",
        "        Ao final, você irá escolher o tema mais relevante entre eles com base nas suas pesquisas\n",
        "        e retornar esse tema, seus pontos mais relevantes, e um plano com os assuntos\n",
        "        a serem abordados no post que serã escrito posteriormente.\n",
        "        \"\"\",\n",
        "        description=\"Agente que planeja posts\",\n",
        "        tools=[google_search]\n",
        "    )\n",
        "\n",
        "    entrada_do_agente_planejador = f\"Tópico:{topico}\\nLançamentos buscados: {lancamentos_buscados}\"\n",
        "    # Executa o agente\n",
        "    plano_do_post = call_agent(planejador, entrada_do_agente_planejador)\n",
        "    return plano_do_post"
      ],
      "metadata": {
        "id": "y3VO1uo5_ghO"
      },
      "execution_count": 13,
      "outputs": []
    },
    {
      "cell_type": "code",
      "source": [
        "######################################\n",
        "# --- Agente 3: Redator do Post --- #\n",
        "######################################\n",
        "def agente_redator(topico, plano_de_post):\n",
        "    redator = Agent(\n",
        "        name=\"agente_redator\",\n",
        "        model=\"gemini-2.0-flash\",\n",
        "        instruction=\"\"\"\n",
        "            Você é um Redator Criativo especializado em criar posts virais para redes sociais.\n",
        "            Você escreve posts para a empresa Alura, a maior escola online de tecnologia do Brasil.\n",
        "            Utilize o tema fornecido no plano de post e os pontos mais relevantes fornecidos e, com base nisso,\n",
        "            escreva um rascunho de post para Instagram sobre o tema indicado.\n",
        "            O post deve ser engajador, informativo, com linguagem simples e incluir 2 a 4 hashtags no final.\n",
        "            \"\"\",\n",
        "        description=\"Agente redator de posts engajadores para Instagram\"\n",
        "    )\n",
        "    entrada_do_agente_redator = f\"Tópico: {topico}\\nPlano de post: {plano_de_post}\"\n",
        "    # Executa o agente\n",
        "    rascunho = call_agent(redator, entrada_do_agente_redator)\n",
        "    return rascunho"
      ],
      "metadata": {
        "id": "uOqlg2TRLVh1"
      },
      "execution_count": 24,
      "outputs": []
    },
    {
      "cell_type": "code",
      "source": [
        "##########################################\n",
        "# --- Agente 4: Revisor de Qualidade --- #\n",
        "##########################################\n",
        "def agente_revisor(topico, rascunho_gerado):\n",
        "    revisor = Agent(\n",
        "        name=\"agente_revisor\",\n",
        "        model=\"gemini-2.0-flash\",\n",
        "        instruction=\"\"\"\n",
        "            Você é um Editor e Revisor de Conteúdo meticuloso, especializado em posts para redes sociais, com foco no Instagram.\n",
        "            Por ter um público jovem, entre 18 e 30 anos, use um tom de escrita adequado.\n",
        "            Revise o rascunho de post de Instagram abaixo sobre o tópico indicado, verificando clareza, concisão, correção e tom.\n",
        "            Se o rascunho estiver bom, responda apenas 'O rascunho está ótimo e pronto para publicar!'.\n",
        "            Caso haja problemas, aponte-os e sugira melhorias.\n",
        "            \"\"\",\n",
        "        description=\"Agente revisor de post para redes sociais.\"\n",
        "    )\n",
        "    entrada_do_agente_revisor = f\"Tópico: {topico}\\nRascunho: {rascunho_gerado}\"\n",
        "    # Executa o agente\n",
        "    texto_revisado = call_agent(revisor, entrada_do_agente_revisor)\n",
        "    return texto_revisado"
      ],
      "metadata": {
        "id": "_aTb1SdkLeT6"
      },
      "execution_count": 26,
      "outputs": []
    },
    {
      "cell_type": "code",
      "source": [
        "data_de_hoje = date.today().strftime(\"%d/%m/%Y\")\n",
        "\n",
        "print(\"🚀 Iniciando o Sistema de Criação de Posts para Instagram com 4 Agentes 🚀\")\n",
        "\n",
        "# --- Obter o Tópico do Usuário ---\n",
        "topico = input(\"❓ Por favor, digite o TÓPICO sobre o qual você quer criar o post de tendências: \")\n",
        "\n",
        "# Inserir lógica do sistema de agentes ################################################\n",
        "if not topico:\n",
        "  print(\"você esqueceu de digitar o tópico!\")\n",
        "else:\n",
        "  print(f\"maravilha! Vamos então criar o post sobre novidades em {topico}\")\n",
        "\n",
        "  lancamentos_buscados = agente_buscador(topico, data_de_hoje)\n",
        "  print(\"\\n--- Resultado do Agente 1 (Buscador) ---\\n\")\n",
        "  display(to_markdown(lancamentos_buscados))\n",
        "  print(\"--------------------------------------------------------------------------------\")\n",
        "\n",
        "  plano_de_post = agente_planejador(topico,lancamentos_buscados)\n",
        "  print(\"\\n--- Resultado do Agente 2 (Planejador) ---\\n\")\n",
        "  display(to_markdown(plano_de_post))\n",
        "  print(\"--------------------------------------------------------------------------------\")\n",
        "\n",
        "  rascunho_de_post = agente_redator(topico,plano_de_post)\n",
        "  print(\"\\n--- Resultado do Agente 3 (Redator) ---\\n\")\n",
        "  display(to_markdown(rascunho_de_post))\n",
        "  print(\"--------------------------------------------------------------------------------\")\n",
        "\n",
        "  post_final = agente_revisor(topico,rascunho_de_post)\n",
        "  print(\"\\n--- Resultado do Agente 4 (Revisor) ---\\n\")\n",
        "  display(to_markdown(rascunho_de_post))\n",
        "  print(\"--------------------------------------------------------------------------------\")\n",
        "\n",
        "\n",
        ""
      ],
      "metadata": {
        "id": "630ummxz4myx",
        "colab": {
          "base_uri": "https://localhost:8080/",
          "height": 1000
        },
        "outputId": "403b5846-b81d-4cad-8b4c-9f7f532be29f"
      },
      "execution_count": 28,
      "outputs": [
        {
          "output_type": "stream",
          "name": "stdout",
          "text": [
            "🚀 Iniciando o Sistema de Criação de Posts para Instagram com 4 Agentes 🚀\n",
            "❓ Por favor, digite o TÓPICO sobre o qual você quer criar o post de tendências: impactos negativos da verticalizacao em SP\n",
            "maravilha! Vamos então criar o post sobre novidades em impactos negativos da verticalizacao em SP\n",
            "\n",
            "--- Resultado do Agente 1 (Buscador) ---\n",
            "\n"
          ]
        },
        {
          "output_type": "display_data",
          "data": {
            "text/plain": [
              "<IPython.core.display.Markdown object>"
            ],
            "text/markdown": "> Para encontrar os impactos negativos da verticalização em São Paulo e os lançamentos mais recentes sobre o tema, farei algumas buscas no Google.\n> \n> \n> Com base nas notícias e informações encontradas, aqui estão alguns dos impactos negativos da verticalização em São Paulo, juntamente com alguns lançamentos e discussões relevantes sobre o tema:\n> \n> **Impactos Negativos da Verticalização:**\n> \n> *   **Problemas Ambientais:**\n>     *   **Ilhas de calor:** Áreas verticalizadas tendem a ter problemas de ventilação natural, tornando-se propícias à formação de ilhas de calor, com temperaturas médias mais elevadas. No verão, isso causa temperaturas e sensações térmicas maiores, enquanto no inverno dificulta a dispersão do calor devido às sombras criadas pelas torres ([3]).\n>     *   **Alteração da circulação do ar:** Prédios altos podem atuar como \"quebra-ventos\", interferindo na circulação do ar e comprometendo a ventilação do ambiente ([3]).\n>     *   **Aumento da poluição:** A verticalização intensifica o consumo de energia e a produção de resíduos, aumentando a poluição ([5]).\n> *   **Impactos Sociais:**\n>     *   **Perda da identidade e características culturais locais:** A verticalização pode levar à perda da identidade e das características culturais dos bairros ([5]).\n>     *   **Falta de espaços públicos adequados:** Pode diminuir a coesão social, criando ambientes onde a interação comunitária é prejudicada ([5]).\n>     *   **Sobrecarga na infraestrutura:** A pressão sobre serviços públicos como saúde, educação e transporte se intensifica, gerando impacto no uso de recursos naturais ([5]).\n> *   **Questões Urbanísticas:**\n>     *   **Distorção da forma urbana:** Construções cada vez mais altas podem distorcer a forma urbana ([3]).\n>     *   **Conflitos com patrimônio histórico:** A construção de edifícios altos próximos a áreas históricas pode criar dissonâncias visuais e estéticas, impactando a percepção do patrimônio ([5]).\n>     *   **Desigualdades sociais:** Nem sempre os edifícios são acessíveis ou adequados para todos os públicos, podendo provocar desigualdades sociais ([12]).\n> \n> **Lançamentos e Discussões Recentes:**\n> \n> *   **Revisão do Plano Diretor Estratégico (PDE):** Aprovada em junho de 2023, a revisão do PDE permitiu a verticalização sem limites de altura nas áreas de influência dos Eixos de Estruturação da Transformação Urbana (EETU), o que gerou debates e protestos ([7]).\n> *   **Ajustes na Lei de Zoneamento:** Em outubro de 2024, a Prefeitura de São Paulo sancionou ajustes na Lei de Zoneamento para aprimorar e suprir lacunas na legislação. Vetos foram realizados para impedir a construção de prédios mais altos em áreas estritamente residenciais ([4]).\n> *   **Audiência Pública sobre Impactos Climáticos:** Em outubro de 2023, a Câmara Municipal de São Paulo realizou uma audiência pública para debater os impactos da revisão do PDE nas pautas de emergência climática e aquecimento global ([16]).\n> *   **Discussão sobre adensamento:** Artigos recentes de maio de 2025 apontam que o adensamento das regiões centrais pode promover a redução de emissões de gases de efeito estufa e maior eficiência nos gastos públicos, mas que é preciso equilibrar o adensamento com a proteção do patrimônio cultural e ambiental ([10], \\[14]).\n> \n> É importante notar que a verticalização, por si só, não é necessariamente negativa. O problema reside na falta de planejamento adequado, que pode levar a esses impactos adversos. Soluções como a promoção de construções sustentáveis, a criação de espaços públicos de qualidade e a preservação do patrimônio histórico são essenciais para mitigar os efeitos negativos da verticalização e promover um ambiente urbano mais equilibrado.\n> \n"
          },
          "metadata": {}
        },
        {
          "output_type": "stream",
          "name": "stdout",
          "text": [
            "--------------------------------------------------------------------------------\n",
            "\n",
            "--- Resultado do Agente 2 (Planejador) ---\n",
            "\n"
          ]
        },
        {
          "output_type": "display_data",
          "data": {
            "text/plain": [
              "<IPython.core.display.Markdown object>"
            ],
            "text/markdown": "> Com base nas informações fornecidas e nas buscas realizadas, o tema mais relevante para um post sobre os impactos negativos da verticalização em São Paulo é:\n> \n> **Tema:** Os Impactos Negativos da Verticalização Descontrolada em São Paulo e a Necessidade de um Planejamento Urbano Sustentável\n> \n> **Pontos Relevantes a serem Abordados:**\n> \n> 1.  **Problemas Ambientais:**\n>     *   Ilhas de calor: Como a verticalização agrava este problema em São Paulo.\n>     *   Alteração da circulação do ar: Explique como os edifícios altos afetam a ventilação e o clima local.\n>     *   Aumento da poluição: Detalhe como a verticalização intensifica o consumo de energia e a produção de resíduos.\n> 2.  **Impactos Sociais:**\n>     *   Perda da identidade local: Como a verticalização afeta a cultura e a identidade dos bairros.\n>     *   Falta de espaços públicos: Explique como a falta de planejamento de espaços públicos pode impactar a interação social.\n>     *   Sobrecarga na infraestrutura: Detalhe como a verticalização pressiona os serviços públicos e os recursos naturais.\n> 3.  **Questões Urbanísticas:**\n>     *   Distorção da forma urbana: Como a construção descontrolada de edifícios altos afeta a estética da cidade.\n>     *   Conflitos com patrimônio histórico: A importância de preservar o patrimônio histórico em face da verticalização.\n>     *   Desigualdades sociais: Como a verticalização pode ampliar as desigualdades sociais, com a criação de espaços inacessíveis para muitos.\n> 4.  **Discussões Recentes e Legislação:**\n>     *   Revisão do Plano Diretor Estratégico (PDE): Explique como a revisão do PDE de 2023 permitiu a verticalização sem limites de altura em áreas específicas e as controvérsias geradas.\n>     *   Ajustes na Lei de Zoneamento: Detalhe os ajustes realizados em 2024 e como eles tentam mitigar os impactos negativos da verticalização.\n>     *   Audiência Pública sobre Impactos Climáticos: Mencione a audiência pública de 2023 sobre os impactos da verticalização nas pautas de emergência climática.\n>     *   Adensamento e seus efeitos: Discuta como o adensamento pode reduzir emissões e aumentar a eficiência dos gastos públicos, mas com a necessidade de proteger o patrimônio cultural e ambiental.\n> \n> **Plano para o Post:**\n> \n> 1.  **Introdução:**\n>     *   Apresente o tema da verticalização em São Paulo e sua importância no contexto urbano atual.\n>     *   Destaque a necessidade de um planejamento urbano sustentável para mitigar os impactos negativos.\n> 2.  **Desenvolvimento:**\n>     *   **Problemas Ambientais:**\n>         *   Explique detalhadamente cada um dos problemas ambientais (ilhas de calor, alteração da circulação do ar, aumento da poluição).\n>         *   Utilize exemplos concretos de áreas afetadas em São Paulo.\n>     *   **Impactos Sociais:**\n>         *   Aborde a perda da identidade local, a falta de espaços públicos e a sobrecarga na infraestrutura.\n>         *   Apresente dados e estatísticas sobre o impacto da verticalização na qualidade de vida dos moradores.\n>     *   **Questões Urbanísticas:**\n>         *   Discuta a distorção da forma urbana, os conflitos com o patrimônio histórico e as desigualdades sociais.\n>         *   Mostre exemplos de como a verticalização descontrolada afeta a estética da cidade e o acesso a serviços.\n>     *   **Discussões Recentes e Legislação:**\n>         *   Explique a revisão do PDE de 2023 e os ajustes na Lei de Zoneamento de 2024.\n>         *   Analise os debates e controvérsias em torno da verticalização e suas implicações para o futuro da cidade.\n> 3.  **Soluções e Recomendações:**\n>     *   Apresente soluções e recomendações para mitigar os impactos negativos da verticalização.\n>     *   Promova a importância de construções sustentáveis, espaços públicos de qualidade e preservação do patrimônio histórico.\n> 4.  **Conclusão:**\n>     *   Reafirme a importância de um planejamento urbano sustentável e equilibrado.\n>     *   Incentive o debate público e a participação da sociedade na definição das políticas urbanas.\n> \n> Para aprofundar a pesquisa e enriquecer o post, usarei as seguintes buscas no Google:\n> \n> Com base nas informações coletadas, aqui está um plano de conteúdo detalhado para o post sobre os impactos negativos da verticalização descontrolada em São Paulo:\n> \n> **Título:** Verticalização em São Paulo: O Lado Sombrio do Crescimento Descontrolado e a Urgência de um Planejamento Urbano Sustentável\n> \n> **Introdução:**\n> \n> *   Contextualizar o crescimento vertical de São Paulo como um fenômeno histórico e contínuo.\n> *   Apresentar a problemática da verticalização descontrolada e seus impactos negativos em diversas áreas.\n> *   Destacar a importância de um planejamento urbano sustentável para mitigar esses impactos e promover um desenvolvimento mais equilibrado.\n> \n> **Desenvolvimento:**\n> \n> 1.  **Problemas Ambientais:**\n>     *   **Ilhas de Calor:**\n>         *   Explicar o fenômeno das ilhas de calor e como a verticalização contribui para o aumento das temperaturas em áreas urbanas densas.\n>         *   Mencionar que a falta de ventilação natural e o uso de materiais que absorvem calor (como asfalto e concreto) intensificam o problema.\n>         *   Citar estudos que demonstram o aumento da temperatura e a criação de microclimas urbanos prejudiciais à saúde e ao conforto da população (referenciar \\[3], \\[8], \\[18], \\[20], \\[24]).\n>     *   **Alteração da Circulação do Ar:**\n>         *   Detalhar como os edifícios altos podem funcionar como \"quebra-ventos\", bloqueando a circulação natural do ar e prejudicando a ventilação.\n>         *   Explicar como essa alteração afeta a qualidade do ar e a dispersão de poluentes (referenciar \\[3], \\[8], \\[18]).\n>     *   **Aumento da Poluição:**\n>         *   Explicar como a verticalização intensifica o consumo de energia (ar-condicionado, iluminação) e a produção de resíduos, aumentando a poluição do ar e da água.\n>         *   Relacionar o aumento da frota de veículos com o adensamento populacional, o que agrava ainda mais a poluição (referenciar \\[5]).\n> \n> 2.  **Impactos Sociais:**\n>     *   **Perda da Identidade Local:**\n>         *   Discutir como a verticalização descaracteriza bairros tradicionais, substituindo construções históricas por edifícios modernos e sem identidade.\n>         *   Mencionar a perda de espaços de convívio e a homogeneização da paisagem urbana (referenciar \\[4], \\[5]).\n>     *   **Falta de Espaços Públicos:**\n>         *   Abordar como a priorização da construção de edifícios em detrimento de áreas verdes e espaços de lazer afeta a qualidade de vida e a interação social.\n>         *   Destacar a importância de parques, praças e áreas de convivência para a saúde física e mental da população (referenciar \\[5]).\n>     *   **Sobrecarga na Infraestrutura:**\n>         *   Explicar como o aumento da densidade populacional sobrecarrega os serviços públicos (saúde, educação, transporte), gerando filas, falta de vagas e dificuldades de acesso.\n>         *   Mencionar o aumento do consumo de água e energia, que pode levar a problemas de abastecimento (referenciar \\[5]).\n> \n> 3.  **Questões Urbanísticas:**\n>     *   **Distorção da Forma Urbana:**\n>         *   Mostrar como a construção descontrolada de edifícios altos e sem planejamento afeta a estética da cidade, criando uma paisagem caótica e desordenada.\n>         *   Comparar a situação de São Paulo com outras cidades que possuem um planejamento urbano mais eficiente e harmonioso (referenciar \\[3], \\[4]).\n>     *   **Conflitos com Patrimônio Histórico:**\n>         *   Discutir como a construção de edifícios altos próximos a áreas históricas pode comprometer a percepção e a valorização do patrimônio cultural da cidade.\n>         *   Citar exemplos de edifícios que geram dissonâncias visuais e impactam a paisagem urbana (referenciar \\[5]).\n>     *   **Desigualdades Sociais:**\n>         *   Abordar como a verticalização pode ampliar as desigualdades sociais, com a criação de condomínios de luxo inacessíveis para a maioria da população.\n>         *   Mencionar a falta de moradias populares e a segregação espacial, que afetam o acesso a serviços e oportunidades (referenciar \\[4], \\[12]).\n> \n> 4.  **Discussões Recentes e Legislação:**\n>     *   **Revisão do Plano Diretor Estratégico (PDE):**\n>         *   Explicar como a revisão do PDE de 2023 permitiu a verticalização sem limites de altura em áreas específicas, gerando debates e controvérsias (referenciar \\[7]).\n>         *   Mencionar críticas sobre a falta de participação popular e os possíveis impactos negativos da medida (referenciar \\[3], \\[5], \\[6], \\[22], \\[23], \\[25]).\n>     *   **Ajustes na Lei de Zoneamento:**\n>         *   Detalhar os ajustes realizados em 2024 e como eles tentam mitigar os impactos negativos da verticalização, com vetos a construções mais altas em áreas residenciais (referenciar \\[4], \\[10], \\[14], \\[15]).\n>         *   Discutir a efetividade dessas medidas e a necessidade de um planejamento urbano mais abrangente e participativo (referenciar \\[12]).\n>     *   **Audiência Pública sobre Impactos Climáticos:**\n>         *   Mencionar a audiência pública de 2023 sobre os impactos da verticalização nas pautas de emergência climática e aquecimento global (referenciar \\[6]).\n>         *   Destacar a importância de considerar os aspectos ambientais no planejamento urbano e na definição das políticas públicas.\n>     *   **Adensamento e seus Efeitos:**\n>         *   Discutir como o adensamento pode reduzir emissões e aumentar a eficiência dos gastos públicos, mas com a necessidade de proteger o patrimônio cultural e ambiental (referenciar \\[7], \\[9], \\[11], \\[13], \\[17], \\[21]).\n>         *   Apresentar dados e estatísticas sobre a relação entre densidade populacional, emissões de gases de efeito estufa e qualidade de vida (referenciar \\[5], \\[11]).\n> \n> **Soluções e Recomendações:**\n> \n> *   **Construções Sustentáveis:** Incentivar a utilização de materiais e técnicas de construção que reduzam o impacto ambiental dos edifícios, como telhados verdes, sistemas de captação de água da chuva e painéis solares.\n> *   **Espaços Públicos de Qualidade:** Priorizar a criação e a revitalização de parques, praças e áreas de lazer, que promovam a interação social e a melhoria da qualidade de vida.\n> *   **Preservação do Patrimônio Histórico:** Adotar medidas para proteger e valorizar o patrimônio cultural da cidade, evitando a construção de edifícios que comprometam a sua percepção e o seu valor.\n> *   **Planejamento Urbano Participativo:** Promover a participação da sociedade civil na definição das políticas urbanas, garantindo que as decisões sobre o uso do solo e o desenvolvimento da cidade sejam tomadas de forma democrática e transparente.\n> *   **Incentivo ao transporte público e mobilidade ativa:** Priorizar investimentos em transporte público de qualidade e infraestrutura para pedestres e ciclistas, reduzindo a dependência do automóvel e a emissão de poluentes.\n> \n> **Conclusão:**\n> \n> *   Reafirmar a urgência de um planejamento urbano sustentável e equilibrado para mitigar os impactos negativos da verticalização em São Paulo.\n> *   Incentivar o debate público e a participação da sociedade na construção de uma cidade mais justa, verde e agradável para todos.\n> \n> Espero que este plano detalhado seja útil para a criação de um post informativo e impactante sobre os desafios e as oportunidades da verticalização em São Paulo.\n> \n"
          },
          "metadata": {}
        },
        {
          "output_type": "stream",
          "name": "stdout",
          "text": [
            "--------------------------------------------------------------------------------\n",
            "\n",
            "--- Resultado do Agente 3 (Redator) ---\n",
            "\n"
          ]
        },
        {
          "output_type": "display_data",
          "data": {
            "text/plain": [
              "<IPython.core.display.Markdown object>"
            ],
            "text/markdown": "> 🏙️ São Paulo Vertical: Beleza ou Caos? 🤔\n> \n> A verticalização da nossa selva de pedra é um fenômeno que molda a cidade, mas nem tudo são flores! 🏢➡️🌳\n> \n> 🔥 Ilhas de calor, poluição do ar, menos áreas verdes… 😥 A falta de planejamento urbano acentua esses problemas e afeta diretamente nossa qualidade de vida.\n> \n> 🌆 A identidade dos bairros se perde, a infraestrutura sofre e a desigualdade social aumenta. Precisamos repensar o crescimento da cidade! ⚠️\n> \n> 🗣️ E você, o que pensa sobre isso? Compartilhe sua opinião nos comentários! 👇\n> \n> 🌱 Juntos, podemos construir uma São Paulo mais sustentável e humana!\n> \n> #VerticalizaçãoSP #PlanejamentoUrbano #CidadesSustentáveis #Alura\n> \n"
          },
          "metadata": {}
        },
        {
          "output_type": "stream",
          "name": "stdout",
          "text": [
            "--------------------------------------------------------------------------------\n",
            "\n",
            "--- Resultado do Agente 4 (Revisor) ---\n",
            "\n"
          ]
        },
        {
          "output_type": "display_data",
          "data": {
            "text/plain": [
              "<IPython.core.display.Markdown object>"
            ],
            "text/markdown": "> 🏙️ São Paulo Vertical: Beleza ou Caos? 🤔\n> \n> A verticalização da nossa selva de pedra é um fenômeno que molda a cidade, mas nem tudo são flores! 🏢➡️🌳\n> \n> 🔥 Ilhas de calor, poluição do ar, menos áreas verdes… 😥 A falta de planejamento urbano acentua esses problemas e afeta diretamente nossa qualidade de vida.\n> \n> 🌆 A identidade dos bairros se perde, a infraestrutura sofre e a desigualdade social aumenta. Precisamos repensar o crescimento da cidade! ⚠️\n> \n> 🗣️ E você, o que pensa sobre isso? Compartilhe sua opinião nos comentários! 👇\n> \n> 🌱 Juntos, podemos construir uma São Paulo mais sustentável e humana!\n> \n> #VerticalizaçãoSP #PlanejamentoUrbano #CidadesSustentáveis #Alura\n> \n"
          },
          "metadata": {}
        },
        {
          "output_type": "stream",
          "name": "stdout",
          "text": [
            "--------------------------------------------------------------------------------\n"
          ]
        }
      ]
    }
  ]
}